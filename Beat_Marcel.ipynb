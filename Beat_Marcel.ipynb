{
  "nbformat": 4,
  "nbformat_minor": 0,
  "metadata": {
    "colab": {
      "provenance": [],
      "authorship_tag": "ABX9TyMFPOfkAZRLds+MJmytxvmp",
      "include_colab_link": true
    },
    "kernelspec": {
      "name": "ir",
      "display_name": "R"
    },
    "language_info": {
      "name": "R"
    }
  },
  "cells": [
    {
      "cell_type": "markdown",
      "metadata": {
        "id": "view-in-github",
        "colab_type": "text"
      },
      "source": [
        "<a href=\"https://colab.research.google.com/github/ddundee24/SABR_Level3_Final/blob/main/Beat_Marcel.ipynb\" target=\"_parent\"><img src=\"https://colab.research.google.com/assets/colab-badge.svg\" alt=\"Open In Colab\"/></a>"
      ]
    },
    {
      "cell_type": "code",
      "source": [
        "## Install and read relevant packages\n",
        "\n",
        "install.packages(\"tidyverse\")\n",
        "install.packages(\"Lahman\")\n",
        "library(tidyverse)\n",
        "library(Lahman)"
      ],
      "metadata": {
        "colab": {
          "base_uri": "https://localhost:8080/"
        },
        "id": "pz3Sae2URON8",
        "outputId": "a5e16b12-aea8-4fab-8c47-b2619b639692"
      },
      "execution_count": 12,
      "outputs": [
        {
          "output_type": "stream",
          "name": "stderr",
          "text": [
            "Installing package into ‘/usr/local/lib/R/site-library’\n",
            "(as ‘lib’ is unspecified)\n",
            "\n",
            "Installing package into ‘/usr/local/lib/R/site-library’\n",
            "(as ‘lib’ is unspecified)\n",
            "\n"
          ]
        }
      ]
    },
    {
      "cell_type": "code",
      "source": [
        "## Read in Data\n",
        "df <- read.csv(\"https://huggingface.co/spaces/rkarthur/sabr3evaluation/raw/main/data/SABR3_Final_Assignment_data.csv\")\n",
        "head(df)"
      ],
      "metadata": {
        "colab": {
          "base_uri": "https://localhost:8080/",
          "height": 286
        },
        "id": "_FBb55QkSNx8",
        "outputId": "7e31274e-4c03-454a-c886-00eabab477ee"
      },
      "execution_count": 13,
      "outputs": [
        {
          "output_type": "display_data",
          "data": {
            "text/html": [
              "<table class=\"dataframe\">\n",
              "<caption>A data.frame: 6 × 10</caption>\n",
              "<thead>\n",
              "\t<tr><th></th><th scope=col>bbref_id</th><th scope=col>Age</th><th scope=col>PA1</th><th scope=col>PA2</th><th scope=col>PA3</th><th scope=col>PA4</th><th scope=col>OPSY1</th><th scope=col>OPSY2</th><th scope=col>OPSY3</th><th scope=col>OPSY4</th></tr>\n",
              "\t<tr><th></th><th scope=col>&lt;chr&gt;</th><th scope=col>&lt;int&gt;</th><th scope=col>&lt;int&gt;</th><th scope=col>&lt;int&gt;</th><th scope=col>&lt;int&gt;</th><th scope=col>&lt;int&gt;</th><th scope=col>&lt;dbl&gt;</th><th scope=col>&lt;dbl&gt;</th><th scope=col>&lt;dbl&gt;</th><th scope=col>&lt;dbl&gt;</th></tr>\n",
              "</thead>\n",
              "<tbody>\n",
              "\t<tr><th scope=row>1</th><td>abreujo02</td><td>33</td><td>262</td><td>693</td><td>553</td><td>675</td><td>0.987</td><td>0.8340000</td><td>0.798</td><td>0.906</td></tr>\n",
              "\t<tr><th scope=row>2</th><td>adriaeh01</td><td>30</td><td>101</td><td>236</td><td>366</td><td>186</td><td>0.557</td><td>0.7650000</td><td>0.680</td><td>0.707</td></tr>\n",
              "\t<tr><th scope=row>3</th><td>aguilje01</td><td>30</td><td>216</td><td>738</td><td>566</td><td>311</td><td>0.809</td><td>0.7135691</td><td>0.890</td><td>0.837</td></tr>\n",
              "\t<tr><th scope=row>4</th><td>ahmedni01</td><td>30</td><td>217</td><td>625</td><td>564</td><td>178</td><td>0.729</td><td>0.7530000</td><td>0.700</td><td>0.717</td></tr>\n",
              "\t<tr><th scope=row>5</th><td>albieoz01</td><td>23</td><td>124</td><td>702</td><td>684</td><td>244</td><td>0.773</td><td>0.8520000</td><td>0.757</td><td>0.810</td></tr>\n",
              "\t<tr><th scope=row>6</th><td>alfarjo01</td><td>27</td><td>100</td><td>465</td><td>377</td><td>114</td><td>0.624</td><td>0.7360000</td><td>0.731</td><td>0.874</td></tr>\n",
              "</tbody>\n",
              "</table>\n"
            ],
            "text/markdown": "\nA data.frame: 6 × 10\n\n| <!--/--> | bbref_id &lt;chr&gt; | Age &lt;int&gt; | PA1 &lt;int&gt; | PA2 &lt;int&gt; | PA3 &lt;int&gt; | PA4 &lt;int&gt; | OPSY1 &lt;dbl&gt; | OPSY2 &lt;dbl&gt; | OPSY3 &lt;dbl&gt; | OPSY4 &lt;dbl&gt; |\n|---|---|---|---|---|---|---|---|---|---|---|\n| 1 | abreujo02 | 33 | 262 | 693 | 553 | 675 | 0.987 | 0.8340000 | 0.798 | 0.906 |\n| 2 | adriaeh01 | 30 | 101 | 236 | 366 | 186 | 0.557 | 0.7650000 | 0.680 | 0.707 |\n| 3 | aguilje01 | 30 | 216 | 738 | 566 | 311 | 0.809 | 0.7135691 | 0.890 | 0.837 |\n| 4 | ahmedni01 | 30 | 217 | 625 | 564 | 178 | 0.729 | 0.7530000 | 0.700 | 0.717 |\n| 5 | albieoz01 | 23 | 124 | 702 | 684 | 244 | 0.773 | 0.8520000 | 0.757 | 0.810 |\n| 6 | alfarjo01 | 27 | 100 | 465 | 377 | 114 | 0.624 | 0.7360000 | 0.731 | 0.874 |\n\n",
            "text/latex": "A data.frame: 6 × 10\n\\begin{tabular}{r|llllllllll}\n  & bbref\\_id & Age & PA1 & PA2 & PA3 & PA4 & OPSY1 & OPSY2 & OPSY3 & OPSY4\\\\\n  & <chr> & <int> & <int> & <int> & <int> & <int> & <dbl> & <dbl> & <dbl> & <dbl>\\\\\n\\hline\n\t1 & abreujo02 & 33 & 262 & 693 & 553 & 675 & 0.987 & 0.8340000 & 0.798 & 0.906\\\\\n\t2 & adriaeh01 & 30 & 101 & 236 & 366 & 186 & 0.557 & 0.7650000 & 0.680 & 0.707\\\\\n\t3 & aguilje01 & 30 & 216 & 738 & 566 & 311 & 0.809 & 0.7135691 & 0.890 & 0.837\\\\\n\t4 & ahmedni01 & 30 & 217 & 625 & 564 & 178 & 0.729 & 0.7530000 & 0.700 & 0.717\\\\\n\t5 & albieoz01 & 23 & 124 & 702 & 684 & 244 & 0.773 & 0.8520000 & 0.757 & 0.810\\\\\n\t6 & alfarjo01 & 27 & 100 & 465 & 377 & 114 & 0.624 & 0.7360000 & 0.731 & 0.874\\\\\n\\end{tabular}\n",
            "text/plain": [
              "  bbref_id  Age PA1 PA2 PA3 PA4 OPSY1 OPSY2     OPSY3 OPSY4\n",
              "1 abreujo02 33  262 693 553 675 0.987 0.8340000 0.798 0.906\n",
              "2 adriaeh01 30  101 236 366 186 0.557 0.7650000 0.680 0.707\n",
              "3 aguilje01 30  216 738 566 311 0.809 0.7135691 0.890 0.837\n",
              "4 ahmedni01 30  217 625 564 178 0.729 0.7530000 0.700 0.717\n",
              "5 albieoz01 23  124 702 684 244 0.773 0.8520000 0.757 0.810\n",
              "6 alfarjo01 27  100 465 377 114 0.624 0.7360000 0.731 0.874"
            ]
          },
          "metadata": {}
        }
      ]
    },
    {
      "cell_type": "code",
      "source": [
        "## Develop MARCEL projection for OPS\n",
        "df$ops_next_year <- ((5*df$OPSY1) + (4*df$OPSY2) + (3*df$OPSY3))/12\n",
        "\n",
        "df$total_PA <- df$PA1 + df$PA2 + df$PA3\n",
        "\n",
        "df$reliability <- df$total_PA / (df$total_PA + 1200)\n",
        "\n",
        "df$player_rate <- (df$OPSY1 + df$OPSY2 + df$OPSY3) / 3\n",
        "\n",
        "df$regressed_rate <- (df$reliability * df$player_rate) + ((1 - df$reliability)*0.720)\n",
        "\n",
        "df$age_adjustment <- ifelse (df$Age >= 29,(df$Age - 29) * -0.003, (29 - df$Age)*0.006)\n",
        "\n",
        "df$MARCEL_OPS <- (1 + df$age_adjustment) * df$regressed_rate\n",
        "\n",
        "head(df)"
      ],
      "metadata": {
        "colab": {
          "base_uri": "https://localhost:8080/",
          "height": 286
        },
        "id": "bHxIjbvTX1O3",
        "outputId": "6fa0d41a-9ba8-444e-9644-9d14f668118d"
      },
      "execution_count": 14,
      "outputs": [
        {
          "output_type": "display_data",
          "data": {
            "text/html": [
              "<table class=\"dataframe\">\n",
              "<caption>A data.frame: 6 × 17</caption>\n",
              "<thead>\n",
              "\t<tr><th></th><th scope=col>bbref_id</th><th scope=col>Age</th><th scope=col>PA1</th><th scope=col>PA2</th><th scope=col>PA3</th><th scope=col>PA4</th><th scope=col>OPSY1</th><th scope=col>OPSY2</th><th scope=col>OPSY3</th><th scope=col>OPSY4</th><th scope=col>ops_next_year</th><th scope=col>total_PA</th><th scope=col>reliability</th><th scope=col>player_rate</th><th scope=col>regressed_rate</th><th scope=col>age_adjustment</th><th scope=col>MARCEL_OPS</th></tr>\n",
              "\t<tr><th></th><th scope=col>&lt;chr&gt;</th><th scope=col>&lt;int&gt;</th><th scope=col>&lt;int&gt;</th><th scope=col>&lt;int&gt;</th><th scope=col>&lt;int&gt;</th><th scope=col>&lt;int&gt;</th><th scope=col>&lt;dbl&gt;</th><th scope=col>&lt;dbl&gt;</th><th scope=col>&lt;dbl&gt;</th><th scope=col>&lt;dbl&gt;</th><th scope=col>&lt;dbl&gt;</th><th scope=col>&lt;int&gt;</th><th scope=col>&lt;dbl&gt;</th><th scope=col>&lt;dbl&gt;</th><th scope=col>&lt;dbl&gt;</th><th scope=col>&lt;dbl&gt;</th><th scope=col>&lt;dbl&gt;</th></tr>\n",
              "</thead>\n",
              "<tbody>\n",
              "\t<tr><th scope=row>1</th><td>abreujo02</td><td>33</td><td>262</td><td>693</td><td>553</td><td>675</td><td>0.987</td><td>0.8340000</td><td>0.798</td><td>0.906</td><td>0.8887500</td><td>1508</td><td>0.5568685</td><td>0.8730000</td><td>0.8052009</td><td>-0.012</td><td>0.7955385</td></tr>\n",
              "\t<tr><th scope=row>2</th><td>adriaeh01</td><td>30</td><td>101</td><td>236</td><td>366</td><td>186</td><td>0.557</td><td>0.7650000</td><td>0.680</td><td>0.707</td><td>0.6570833</td><td> 703</td><td>0.3694167</td><td>0.6673333</td><td>0.7005441</td><td>-0.003</td><td>0.6984424</td></tr>\n",
              "\t<tr><th scope=row>3</th><td>aguilje01</td><td>30</td><td>216</td><td>738</td><td>566</td><td>311</td><td>0.809</td><td>0.7135691</td><td>0.890</td><td>0.837</td><td>0.7974397</td><td>1520</td><td>0.5588235</td><td>0.8041897</td><td>0.7670472</td><td>-0.003</td><td>0.7647460</td></tr>\n",
              "\t<tr><th scope=row>4</th><td>ahmedni01</td><td>30</td><td>217</td><td>625</td><td>564</td><td>178</td><td>0.729</td><td>0.7530000</td><td>0.700</td><td>0.717</td><td>0.7297500</td><td>1406</td><td>0.5395242</td><td>0.7273333</td><td>0.7239565</td><td>-0.003</td><td>0.7217846</td></tr>\n",
              "\t<tr><th scope=row>5</th><td>albieoz01</td><td>23</td><td>124</td><td>702</td><td>684</td><td>244</td><td>0.773</td><td>0.8520000</td><td>0.757</td><td>0.810</td><td>0.7953333</td><td>1510</td><td>0.5571956</td><td>0.7940000</td><td>0.7612325</td><td> 0.036</td><td>0.7886368</td></tr>\n",
              "\t<tr><th scope=row>6</th><td>alfarjo01</td><td>27</td><td>100</td><td>465</td><td>377</td><td>114</td><td>0.624</td><td>0.7360000</td><td>0.731</td><td>0.874</td><td>0.6880833</td><td> 942</td><td>0.4397759</td><td>0.6970000</td><td>0.7098852</td><td> 0.012</td><td>0.7184038</td></tr>\n",
              "</tbody>\n",
              "</table>\n"
            ],
            "text/markdown": "\nA data.frame: 6 × 17\n\n| <!--/--> | bbref_id &lt;chr&gt; | Age &lt;int&gt; | PA1 &lt;int&gt; | PA2 &lt;int&gt; | PA3 &lt;int&gt; | PA4 &lt;int&gt; | OPSY1 &lt;dbl&gt; | OPSY2 &lt;dbl&gt; | OPSY3 &lt;dbl&gt; | OPSY4 &lt;dbl&gt; | ops_next_year &lt;dbl&gt; | total_PA &lt;int&gt; | reliability &lt;dbl&gt; | player_rate &lt;dbl&gt; | regressed_rate &lt;dbl&gt; | age_adjustment &lt;dbl&gt; | MARCEL_OPS &lt;dbl&gt; |\n|---|---|---|---|---|---|---|---|---|---|---|---|---|---|---|---|---|---|\n| 1 | abreujo02 | 33 | 262 | 693 | 553 | 675 | 0.987 | 0.8340000 | 0.798 | 0.906 | 0.8887500 | 1508 | 0.5568685 | 0.8730000 | 0.8052009 | -0.012 | 0.7955385 |\n| 2 | adriaeh01 | 30 | 101 | 236 | 366 | 186 | 0.557 | 0.7650000 | 0.680 | 0.707 | 0.6570833 |  703 | 0.3694167 | 0.6673333 | 0.7005441 | -0.003 | 0.6984424 |\n| 3 | aguilje01 | 30 | 216 | 738 | 566 | 311 | 0.809 | 0.7135691 | 0.890 | 0.837 | 0.7974397 | 1520 | 0.5588235 | 0.8041897 | 0.7670472 | -0.003 | 0.7647460 |\n| 4 | ahmedni01 | 30 | 217 | 625 | 564 | 178 | 0.729 | 0.7530000 | 0.700 | 0.717 | 0.7297500 | 1406 | 0.5395242 | 0.7273333 | 0.7239565 | -0.003 | 0.7217846 |\n| 5 | albieoz01 | 23 | 124 | 702 | 684 | 244 | 0.773 | 0.8520000 | 0.757 | 0.810 | 0.7953333 | 1510 | 0.5571956 | 0.7940000 | 0.7612325 |  0.036 | 0.7886368 |\n| 6 | alfarjo01 | 27 | 100 | 465 | 377 | 114 | 0.624 | 0.7360000 | 0.731 | 0.874 | 0.6880833 |  942 | 0.4397759 | 0.6970000 | 0.7098852 |  0.012 | 0.7184038 |\n\n",
            "text/latex": "A data.frame: 6 × 17\n\\begin{tabular}{r|lllllllllllllllll}\n  & bbref\\_id & Age & PA1 & PA2 & PA3 & PA4 & OPSY1 & OPSY2 & OPSY3 & OPSY4 & ops\\_next\\_year & total\\_PA & reliability & player\\_rate & regressed\\_rate & age\\_adjustment & MARCEL\\_OPS\\\\\n  & <chr> & <int> & <int> & <int> & <int> & <int> & <dbl> & <dbl> & <dbl> & <dbl> & <dbl> & <int> & <dbl> & <dbl> & <dbl> & <dbl> & <dbl>\\\\\n\\hline\n\t1 & abreujo02 & 33 & 262 & 693 & 553 & 675 & 0.987 & 0.8340000 & 0.798 & 0.906 & 0.8887500 & 1508 & 0.5568685 & 0.8730000 & 0.8052009 & -0.012 & 0.7955385\\\\\n\t2 & adriaeh01 & 30 & 101 & 236 & 366 & 186 & 0.557 & 0.7650000 & 0.680 & 0.707 & 0.6570833 &  703 & 0.3694167 & 0.6673333 & 0.7005441 & -0.003 & 0.6984424\\\\\n\t3 & aguilje01 & 30 & 216 & 738 & 566 & 311 & 0.809 & 0.7135691 & 0.890 & 0.837 & 0.7974397 & 1520 & 0.5588235 & 0.8041897 & 0.7670472 & -0.003 & 0.7647460\\\\\n\t4 & ahmedni01 & 30 & 217 & 625 & 564 & 178 & 0.729 & 0.7530000 & 0.700 & 0.717 & 0.7297500 & 1406 & 0.5395242 & 0.7273333 & 0.7239565 & -0.003 & 0.7217846\\\\\n\t5 & albieoz01 & 23 & 124 & 702 & 684 & 244 & 0.773 & 0.8520000 & 0.757 & 0.810 & 0.7953333 & 1510 & 0.5571956 & 0.7940000 & 0.7612325 &  0.036 & 0.7886368\\\\\n\t6 & alfarjo01 & 27 & 100 & 465 & 377 & 114 & 0.624 & 0.7360000 & 0.731 & 0.874 & 0.6880833 &  942 & 0.4397759 & 0.6970000 & 0.7098852 &  0.012 & 0.7184038\\\\\n\\end{tabular}\n",
            "text/plain": [
              "  bbref_id  Age PA1 PA2 PA3 PA4 OPSY1 OPSY2     OPSY3 OPSY4 ops_next_year\n",
              "1 abreujo02 33  262 693 553 675 0.987 0.8340000 0.798 0.906 0.8887500    \n",
              "2 adriaeh01 30  101 236 366 186 0.557 0.7650000 0.680 0.707 0.6570833    \n",
              "3 aguilje01 30  216 738 566 311 0.809 0.7135691 0.890 0.837 0.7974397    \n",
              "4 ahmedni01 30  217 625 564 178 0.729 0.7530000 0.700 0.717 0.7297500    \n",
              "5 albieoz01 23  124 702 684 244 0.773 0.8520000 0.757 0.810 0.7953333    \n",
              "6 alfarjo01 27  100 465 377 114 0.624 0.7360000 0.731 0.874 0.6880833    \n",
              "  total_PA reliability player_rate regressed_rate age_adjustment MARCEL_OPS\n",
              "1 1508     0.5568685   0.8730000   0.8052009      -0.012         0.7955385 \n",
              "2  703     0.3694167   0.6673333   0.7005441      -0.003         0.6984424 \n",
              "3 1520     0.5588235   0.8041897   0.7670472      -0.003         0.7647460 \n",
              "4 1406     0.5395242   0.7273333   0.7239565      -0.003         0.7217846 \n",
              "5 1510     0.5571956   0.7940000   0.7612325       0.036         0.7886368 \n",
              "6  942     0.4397759   0.6970000   0.7098852       0.012         0.7184038 "
            ]
          },
          "metadata": {}
        }
      ]
    },
    {
      "cell_type": "code",
      "source": [
        "## Calculate error\n",
        "\n",
        "## Median Absolute Error\n",
        "marcel_mse <- round(median(abs(df$MARCEL_OPS - df$OPSY4)),5)\n",
        "\n",
        "## Root Mean Squared Error\n",
        "marcel_rmse <- round((mean((df$MARCEL_OPS - df$OPSY4)**2)),5)\n",
        "\n",
        "print(paste(\"MARCEL MSE:\",marcel_mse))\n",
        "print(paste(\"MARCEL RMSE:\",marcel_rmse))"
      ],
      "metadata": {
        "id": "uQJWrbyoYGlb",
        "colab": {
          "base_uri": "https://localhost:8080/"
        },
        "outputId": "76b933d2-523a-4736-e523-6f165a2eba7c"
      },
      "execution_count": 15,
      "outputs": [
        {
          "output_type": "stream",
          "name": "stdout",
          "text": [
            "[1] \"MARCEL MSE: 0.06327\"\n",
            "[1] \"MARCEL RMSE: 0.0101\"\n"
          ]
        }
      ]
    },
    {
      "cell_type": "code",
      "source": [
        "## Beat Marcel Linear Model\n",
        "\n",
        "## Create Model\n",
        "  ## Normally this would be where the data is separated into traning and testing data sets, but for this assignment for certification,\n",
        "  ## We are only concerned with getting the weights (coefficients) for OPS year over year rather than how Marcel weighs them at 5, 4, and 3.\n",
        "\n",
        "model <- lm(df$OPSY4 ~\n",
        "          df$OPSY1 + df$OPSY2 + df$OPSY3,\n",
        "          data = df)\n",
        "model"
      ],
      "metadata": {
        "id": "C4hf5Kc3NG3s",
        "colab": {
          "base_uri": "https://localhost:8080/",
          "height": 139
        },
        "outputId": "26eafc99-4cb3-4a33-de29-cef1d23ff5ef"
      },
      "execution_count": 16,
      "outputs": [
        {
          "output_type": "display_data",
          "data": {
            "text/plain": [
              "\n",
              "Call:\n",
              "lm(formula = df$OPSY4 ~ df$OPSY1 + df$OPSY2 + df$OPSY3, data = df)\n",
              "\n",
              "Coefficients:\n",
              "(Intercept)     df$OPSY1     df$OPSY2     df$OPSY3  \n",
              "     0.2840       0.1163       0.2314       0.3068  \n"
            ]
          },
          "metadata": {}
        }
      ]
    },
    {
      "cell_type": "code",
      "source": [
        "## With coefficients, we will multiply for projected OPS\n",
        "\n",
        "df$BETTER_THAN_MARCEL_OPS <- (0.2840 + (0.1163 * df$OPSY1) + (0.2314 * df$OPSY2) + (0.3068 * df$OPSY3))\n",
        "\n",
        "head(df)"
      ],
      "metadata": {
        "colab": {
          "base_uri": "https://localhost:8080/",
          "height": 306
        },
        "id": "rbN6y5m9e4WW",
        "outputId": "a425d173-0fae-4fc2-f888-d301d88935c8"
      },
      "execution_count": 17,
      "outputs": [
        {
          "output_type": "display_data",
          "data": {
            "text/html": [
              "<table class=\"dataframe\">\n",
              "<caption>A data.frame: 6 × 18</caption>\n",
              "<thead>\n",
              "\t<tr><th></th><th scope=col>bbref_id</th><th scope=col>Age</th><th scope=col>PA1</th><th scope=col>PA2</th><th scope=col>PA3</th><th scope=col>PA4</th><th scope=col>OPSY1</th><th scope=col>OPSY2</th><th scope=col>OPSY3</th><th scope=col>OPSY4</th><th scope=col>ops_next_year</th><th scope=col>total_PA</th><th scope=col>reliability</th><th scope=col>player_rate</th><th scope=col>regressed_rate</th><th scope=col>age_adjustment</th><th scope=col>MARCEL_OPS</th><th scope=col>BETTER_THAN_MARCEL_OPS</th></tr>\n",
              "\t<tr><th></th><th scope=col>&lt;chr&gt;</th><th scope=col>&lt;int&gt;</th><th scope=col>&lt;int&gt;</th><th scope=col>&lt;int&gt;</th><th scope=col>&lt;int&gt;</th><th scope=col>&lt;int&gt;</th><th scope=col>&lt;dbl&gt;</th><th scope=col>&lt;dbl&gt;</th><th scope=col>&lt;dbl&gt;</th><th scope=col>&lt;dbl&gt;</th><th scope=col>&lt;dbl&gt;</th><th scope=col>&lt;int&gt;</th><th scope=col>&lt;dbl&gt;</th><th scope=col>&lt;dbl&gt;</th><th scope=col>&lt;dbl&gt;</th><th scope=col>&lt;dbl&gt;</th><th scope=col>&lt;dbl&gt;</th><th scope=col>&lt;dbl&gt;</th></tr>\n",
              "</thead>\n",
              "<tbody>\n",
              "\t<tr><th scope=row>1</th><td>abreujo02</td><td>33</td><td>262</td><td>693</td><td>553</td><td>675</td><td>0.987</td><td>0.8340000</td><td>0.798</td><td>0.906</td><td>0.8887500</td><td>1508</td><td>0.5568685</td><td>0.8730000</td><td>0.8052009</td><td>-0.012</td><td>0.7955385</td><td>0.8366021</td></tr>\n",
              "\t<tr><th scope=row>2</th><td>adriaeh01</td><td>30</td><td>101</td><td>236</td><td>366</td><td>186</td><td>0.557</td><td>0.7650000</td><td>0.680</td><td>0.707</td><td>0.6570833</td><td> 703</td><td>0.3694167</td><td>0.6673333</td><td>0.7005441</td><td>-0.003</td><td>0.6984424</td><td>0.7344241</td></tr>\n",
              "\t<tr><th scope=row>3</th><td>aguilje01</td><td>30</td><td>216</td><td>738</td><td>566</td><td>311</td><td>0.809</td><td>0.7135691</td><td>0.890</td><td>0.837</td><td>0.7974397</td><td>1520</td><td>0.5588235</td><td>0.8041897</td><td>0.7670472</td><td>-0.003</td><td>0.7647460</td><td>0.8162586</td></tr>\n",
              "\t<tr><th scope=row>4</th><td>ahmedni01</td><td>30</td><td>217</td><td>625</td><td>564</td><td>178</td><td>0.729</td><td>0.7530000</td><td>0.700</td><td>0.717</td><td>0.7297500</td><td>1406</td><td>0.5395242</td><td>0.7273333</td><td>0.7239565</td><td>-0.003</td><td>0.7217846</td><td>0.7577869</td></tr>\n",
              "\t<tr><th scope=row>5</th><td>albieoz01</td><td>23</td><td>124</td><td>702</td><td>684</td><td>244</td><td>0.773</td><td>0.8520000</td><td>0.757</td><td>0.810</td><td>0.7953333</td><td>1510</td><td>0.5571956</td><td>0.7940000</td><td>0.7612325</td><td> 0.036</td><td>0.7886368</td><td>0.8033003</td></tr>\n",
              "\t<tr><th scope=row>6</th><td>alfarjo01</td><td>27</td><td>100</td><td>465</td><td>377</td><td>114</td><td>0.624</td><td>0.7360000</td><td>0.731</td><td>0.874</td><td>0.6880833</td><td> 942</td><td>0.4397759</td><td>0.6970000</td><td>0.7098852</td><td> 0.012</td><td>0.7184038</td><td>0.7511524</td></tr>\n",
              "</tbody>\n",
              "</table>\n"
            ],
            "text/markdown": "\nA data.frame: 6 × 18\n\n| <!--/--> | bbref_id &lt;chr&gt; | Age &lt;int&gt; | PA1 &lt;int&gt; | PA2 &lt;int&gt; | PA3 &lt;int&gt; | PA4 &lt;int&gt; | OPSY1 &lt;dbl&gt; | OPSY2 &lt;dbl&gt; | OPSY3 &lt;dbl&gt; | OPSY4 &lt;dbl&gt; | ops_next_year &lt;dbl&gt; | total_PA &lt;int&gt; | reliability &lt;dbl&gt; | player_rate &lt;dbl&gt; | regressed_rate &lt;dbl&gt; | age_adjustment &lt;dbl&gt; | MARCEL_OPS &lt;dbl&gt; | BETTER_THAN_MARCEL_OPS &lt;dbl&gt; |\n|---|---|---|---|---|---|---|---|---|---|---|---|---|---|---|---|---|---|---|\n| 1 | abreujo02 | 33 | 262 | 693 | 553 | 675 | 0.987 | 0.8340000 | 0.798 | 0.906 | 0.8887500 | 1508 | 0.5568685 | 0.8730000 | 0.8052009 | -0.012 | 0.7955385 | 0.8366021 |\n| 2 | adriaeh01 | 30 | 101 | 236 | 366 | 186 | 0.557 | 0.7650000 | 0.680 | 0.707 | 0.6570833 |  703 | 0.3694167 | 0.6673333 | 0.7005441 | -0.003 | 0.6984424 | 0.7344241 |\n| 3 | aguilje01 | 30 | 216 | 738 | 566 | 311 | 0.809 | 0.7135691 | 0.890 | 0.837 | 0.7974397 | 1520 | 0.5588235 | 0.8041897 | 0.7670472 | -0.003 | 0.7647460 | 0.8162586 |\n| 4 | ahmedni01 | 30 | 217 | 625 | 564 | 178 | 0.729 | 0.7530000 | 0.700 | 0.717 | 0.7297500 | 1406 | 0.5395242 | 0.7273333 | 0.7239565 | -0.003 | 0.7217846 | 0.7577869 |\n| 5 | albieoz01 | 23 | 124 | 702 | 684 | 244 | 0.773 | 0.8520000 | 0.757 | 0.810 | 0.7953333 | 1510 | 0.5571956 | 0.7940000 | 0.7612325 |  0.036 | 0.7886368 | 0.8033003 |\n| 6 | alfarjo01 | 27 | 100 | 465 | 377 | 114 | 0.624 | 0.7360000 | 0.731 | 0.874 | 0.6880833 |  942 | 0.4397759 | 0.6970000 | 0.7098852 |  0.012 | 0.7184038 | 0.7511524 |\n\n",
            "text/latex": "A data.frame: 6 × 18\n\\begin{tabular}{r|llllllllllllllllll}\n  & bbref\\_id & Age & PA1 & PA2 & PA3 & PA4 & OPSY1 & OPSY2 & OPSY3 & OPSY4 & ops\\_next\\_year & total\\_PA & reliability & player\\_rate & regressed\\_rate & age\\_adjustment & MARCEL\\_OPS & BETTER\\_THAN\\_MARCEL\\_OPS\\\\\n  & <chr> & <int> & <int> & <int> & <int> & <int> & <dbl> & <dbl> & <dbl> & <dbl> & <dbl> & <int> & <dbl> & <dbl> & <dbl> & <dbl> & <dbl> & <dbl>\\\\\n\\hline\n\t1 & abreujo02 & 33 & 262 & 693 & 553 & 675 & 0.987 & 0.8340000 & 0.798 & 0.906 & 0.8887500 & 1508 & 0.5568685 & 0.8730000 & 0.8052009 & -0.012 & 0.7955385 & 0.8366021\\\\\n\t2 & adriaeh01 & 30 & 101 & 236 & 366 & 186 & 0.557 & 0.7650000 & 0.680 & 0.707 & 0.6570833 &  703 & 0.3694167 & 0.6673333 & 0.7005441 & -0.003 & 0.6984424 & 0.7344241\\\\\n\t3 & aguilje01 & 30 & 216 & 738 & 566 & 311 & 0.809 & 0.7135691 & 0.890 & 0.837 & 0.7974397 & 1520 & 0.5588235 & 0.8041897 & 0.7670472 & -0.003 & 0.7647460 & 0.8162586\\\\\n\t4 & ahmedni01 & 30 & 217 & 625 & 564 & 178 & 0.729 & 0.7530000 & 0.700 & 0.717 & 0.7297500 & 1406 & 0.5395242 & 0.7273333 & 0.7239565 & -0.003 & 0.7217846 & 0.7577869\\\\\n\t5 & albieoz01 & 23 & 124 & 702 & 684 & 244 & 0.773 & 0.8520000 & 0.757 & 0.810 & 0.7953333 & 1510 & 0.5571956 & 0.7940000 & 0.7612325 &  0.036 & 0.7886368 & 0.8033003\\\\\n\t6 & alfarjo01 & 27 & 100 & 465 & 377 & 114 & 0.624 & 0.7360000 & 0.731 & 0.874 & 0.6880833 &  942 & 0.4397759 & 0.6970000 & 0.7098852 &  0.012 & 0.7184038 & 0.7511524\\\\\n\\end{tabular}\n",
            "text/plain": [
              "  bbref_id  Age PA1 PA2 PA3 PA4 OPSY1 OPSY2     OPSY3 OPSY4 ops_next_year\n",
              "1 abreujo02 33  262 693 553 675 0.987 0.8340000 0.798 0.906 0.8887500    \n",
              "2 adriaeh01 30  101 236 366 186 0.557 0.7650000 0.680 0.707 0.6570833    \n",
              "3 aguilje01 30  216 738 566 311 0.809 0.7135691 0.890 0.837 0.7974397    \n",
              "4 ahmedni01 30  217 625 564 178 0.729 0.7530000 0.700 0.717 0.7297500    \n",
              "5 albieoz01 23  124 702 684 244 0.773 0.8520000 0.757 0.810 0.7953333    \n",
              "6 alfarjo01 27  100 465 377 114 0.624 0.7360000 0.731 0.874 0.6880833    \n",
              "  total_PA reliability player_rate regressed_rate age_adjustment MARCEL_OPS\n",
              "1 1508     0.5568685   0.8730000   0.8052009      -0.012         0.7955385 \n",
              "2  703     0.3694167   0.6673333   0.7005441      -0.003         0.6984424 \n",
              "3 1520     0.5588235   0.8041897   0.7670472      -0.003         0.7647460 \n",
              "4 1406     0.5395242   0.7273333   0.7239565      -0.003         0.7217846 \n",
              "5 1510     0.5571956   0.7940000   0.7612325       0.036         0.7886368 \n",
              "6  942     0.4397759   0.6970000   0.7098852       0.012         0.7184038 \n",
              "  BETTER_THAN_MARCEL_OPS\n",
              "1 0.8366021             \n",
              "2 0.7344241             \n",
              "3 0.8162586             \n",
              "4 0.7577869             \n",
              "5 0.8033003             \n",
              "6 0.7511524             "
            ]
          },
          "metadata": {}
        }
      ]
    },
    {
      "cell_type": "code",
      "source": [
        "## Calculate Error of Model\n",
        "\n",
        "## Median Absolute Error\n",
        "better_than_marcel_mse <- round(median(abs(df$BETTER_THAN_MARCEL_OPS - df$OPSY4)),5)\n",
        "\n",
        "## Root Mean Squared Error\n",
        "better_than_marcel_rmse <- round((mean((df$BETTER_THAN_MARCEL_OPS - df$OPSY4)**2)),5)\n",
        "\n",
        "print(paste(\"MARCEL MSE:\",better_than_marcel_mse))\n",
        "print(paste(\"MARCEL RMSE:\",better_than_marcel_rmse))"
      ],
      "metadata": {
        "colab": {
          "base_uri": "https://localhost:8080/"
        },
        "id": "YEimVnKHfoLt",
        "outputId": "94b07c06-71df-4a11-865f-f6414529ec35"
      },
      "execution_count": 18,
      "outputs": [
        {
          "output_type": "stream",
          "name": "stdout",
          "text": [
            "[1] \"MARCEL MSE: 0.0581\"\n",
            "[1] \"MARCEL RMSE: 0.00795\"\n"
          ]
        }
      ]
    },
    {
      "cell_type": "code",
      "source": [
        "write.csv(df,\"SABR3_Final\")"
      ],
      "metadata": {
        "id": "wIf8Gal9g8zQ"
      },
      "execution_count": 19,
      "outputs": []
    }
  ]
}